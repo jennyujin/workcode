{
 "cells": [
  {
   "cell_type": "code",
   "execution_count": null,
   "id": "a130e155",
   "metadata": {},
   "outputs": [],
   "source": [
    "# EDA 및 데이터 분석 순서\n",
    "\n",
    "데이터 읽기 - pd.read_csv 어떻게 생겼고 어떻게 수집된 데이터인지 이해하기 \n",
    "\n",
    "데이터 파악하기 - head, tail, count, dtypes, info, shape, null, describe, ProfileReport, columns, value_counts, nlargest, agg, groupby, sort_values, corr, unique, .duplicated().sum(), .isnull().sum()\n",
    "데이터 처리 - 타입 변경, 중복, 결측 제거 및 대체 (상황을 가정), outlier 확인 (outlier를 모델링에 필요한 요소라 가정하고 제거 안함)\n",
    "\n",
    "데이터 유형에 따른 확인 - 수치형, 순서형, 범주형 등\n",
    "수치형 데이터 확인 - 통계 테이블 describe, plot, 정규성과 분포 histogram\n",
    "수치형 데이터 처리 - 범위가 크고 치우친 데이터 정규화 (정규화는 모든 방법을 사용하여 효과를 비교하는 것이 좋으나 z표준화가 가장 효과적이라고 가정)\n",
    "범주형 데이터 확인 - 변수의 항목 나열 및 카운트, 비율 확인, barplot\n",
    "\n",
    "관계성 - group by mean, 정규성 가정 후 correlation, 유의미한 차이인지, 유의미한 관계성인지 검정, scatter plot, 평균비교(정규성 안따르면 비모수적 평균 비교 방법 사용) \n",
    "\n",
    "모델링 - 선형회귀, 로지스틱회귀, 변수선택법, 모델 결정, 해석, 잔차 분석(qq plot)  \n",
    "\n",
    "+ 분야와 데이터에 따라 기존 실험을 바탕으로 분포나 데이터의 특성이 이미 충분히 탐색되었을 경우,\n",
    "기존에 통상적으로 사용된 방법론도 함께 적용하여 비교하는 것이 좋음 \n",
    "\n"
   ]
  },
  {
   "cell_type": "code",
   "execution_count": null,
   "id": "c82e0d0a",
   "metadata": {},
   "outputs": [],
   "source": [
    "#설치된 library 확인\n",
    "!pip list"
   ]
  },
  {
   "cell_type": "code",
   "execution_count": null,
   "id": "0303b6e8",
   "metadata": {},
   "outputs": [],
   "source": [
    "#library 설치 \n",
    "!pip install missingno"
   ]
  },
  {
   "cell_type": "code",
   "execution_count": null,
   "id": "b927f901",
   "metadata": {},
   "outputs": [],
   "source": [
    "# 참고자료 \n",
    "\n",
    "https://www.kaggle.com/code/sudhirnl7/linear-regression-tutorial\n",
    "    \n",
    "    "
   ]
  }
 ],
 "metadata": {
  "kernelspec": {
   "display_name": "Python 3 (ipykernel)",
   "language": "python",
   "name": "python3"
  },
  "language_info": {
   "codemirror_mode": {
    "name": "ipython",
    "version": 3
   },
   "file_extension": ".py",
   "mimetype": "text/x-python",
   "name": "python",
   "nbconvert_exporter": "python",
   "pygments_lexer": "ipython3",
   "version": "3.9.7"
  }
 },
 "nbformat": 4,
 "nbformat_minor": 5
}
